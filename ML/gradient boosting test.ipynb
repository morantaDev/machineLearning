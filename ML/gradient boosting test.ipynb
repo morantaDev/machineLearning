{
 "cells": [
  {
   "cell_type": "code",
   "execution_count": 1,
   "id": "09ac1eb5",
   "metadata": {},
   "outputs": [],
   "source": [
    "import pandas as pd\n",
    "from sklearn.model_selection import train_test_split\n",
    "from sklearn.ensemble import GradientBoostingRegressor\n",
    "from sklearn.metrics import mean_squared_error\n",
    "from xgboost import XGBRegressor\n",
    "from sklearn.model_selection import GridSearchCV\n",
    "from sklearn.model_selection import RepeatedKFold\n",
    "from sklearn.impute import SimpleImputer\n",
    "import numpy as np\n",
    "from sklearn.preprocessing import StandardScaler\n",
    "from sklearn.model_selection import cross_val_score, KFold\n",
    "from sklearn.pipeline import Pipeline"
   ]
  },
  {
   "cell_type": "code",
   "execution_count": 2,
   "id": "7ba43527",
   "metadata": {},
   "outputs": [
    {
     "data": {
      "text/html": [
       "<div>\n",
       "<style scoped>\n",
       "    .dataframe tbody tr th:only-of-type {\n",
       "        vertical-align: middle;\n",
       "    }\n",
       "\n",
       "    .dataframe tbody tr th {\n",
       "        vertical-align: top;\n",
       "    }\n",
       "\n",
       "    .dataframe thead th {\n",
       "        text-align: right;\n",
       "    }\n",
       "</style>\n",
       "<table border=\"1\" class=\"dataframe\">\n",
       "  <thead>\n",
       "    <tr style=\"text-align: right;\">\n",
       "      <th></th>\n",
       "      <th>Suburb</th>\n",
       "      <th>Address</th>\n",
       "      <th>Rooms</th>\n",
       "      <th>Type</th>\n",
       "      <th>Price</th>\n",
       "      <th>Method</th>\n",
       "      <th>SellerG</th>\n",
       "      <th>Date</th>\n",
       "      <th>Distance</th>\n",
       "      <th>Postcode</th>\n",
       "      <th>...</th>\n",
       "      <th>Bathroom</th>\n",
       "      <th>Car</th>\n",
       "      <th>Landsize</th>\n",
       "      <th>BuildingArea</th>\n",
       "      <th>YearBuilt</th>\n",
       "      <th>CouncilArea</th>\n",
       "      <th>Lattitude</th>\n",
       "      <th>Longtitude</th>\n",
       "      <th>Regionname</th>\n",
       "      <th>Propertycount</th>\n",
       "    </tr>\n",
       "  </thead>\n",
       "  <tbody>\n",
       "    <tr>\n",
       "      <th>2</th>\n",
       "      <td>Abbotsford</td>\n",
       "      <td>5 Charles St</td>\n",
       "      <td>3.0</td>\n",
       "      <td>h</td>\n",
       "      <td>1465000.0</td>\n",
       "      <td>SP</td>\n",
       "      <td>Biggin</td>\n",
       "      <td>4/03/2017</td>\n",
       "      <td>2.5</td>\n",
       "      <td>3067.0</td>\n",
       "      <td>...</td>\n",
       "      <td>2.0</td>\n",
       "      <td>0.0</td>\n",
       "      <td>134.0</td>\n",
       "      <td>150.0</td>\n",
       "      <td>1900.0</td>\n",
       "      <td>Yarra</td>\n",
       "      <td>-37.8093</td>\n",
       "      <td>144.9944</td>\n",
       "      <td>Northern Metropolitan</td>\n",
       "      <td>4019.0</td>\n",
       "    </tr>\n",
       "    <tr>\n",
       "      <th>47</th>\n",
       "      <td>Airport West</td>\n",
       "      <td>11 Harrington Rd</td>\n",
       "      <td>6.0</td>\n",
       "      <td>h</td>\n",
       "      <td>725000.0</td>\n",
       "      <td>SP</td>\n",
       "      <td>Barry</td>\n",
       "      <td>7/05/2016</td>\n",
       "      <td>13.5</td>\n",
       "      <td>3042.0</td>\n",
       "      <td>...</td>\n",
       "      <td>3.0</td>\n",
       "      <td>2.0</td>\n",
       "      <td>976.0</td>\n",
       "      <td>186.0</td>\n",
       "      <td>1980.0</td>\n",
       "      <td>Moonee Valley</td>\n",
       "      <td>-37.7239</td>\n",
       "      <td>144.8735</td>\n",
       "      <td>Western Metropolitan</td>\n",
       "      <td>3464.0</td>\n",
       "    </tr>\n",
       "    <tr>\n",
       "      <th>124</th>\n",
       "      <td>Alphington</td>\n",
       "      <td>83 Fulham Rd</td>\n",
       "      <td>5.0</td>\n",
       "      <td>h</td>\n",
       "      <td>2840000.0</td>\n",
       "      <td>S</td>\n",
       "      <td>Nelson</td>\n",
       "      <td>12/06/2016</td>\n",
       "      <td>6.4</td>\n",
       "      <td>3078.0</td>\n",
       "      <td>...</td>\n",
       "      <td>4.0</td>\n",
       "      <td>4.0</td>\n",
       "      <td>809.0</td>\n",
       "      <td>165.0</td>\n",
       "      <td>1910.0</td>\n",
       "      <td>Darebin</td>\n",
       "      <td>-37.7750</td>\n",
       "      <td>145.0268</td>\n",
       "      <td>Northern Metropolitan</td>\n",
       "      <td>2211.0</td>\n",
       "    </tr>\n",
       "    <tr>\n",
       "      <th>379</th>\n",
       "      <td>Ashburton</td>\n",
       "      <td>115 Ashburn Gr</td>\n",
       "      <td>8.0</td>\n",
       "      <td>h</td>\n",
       "      <td>2950000.0</td>\n",
       "      <td>S</td>\n",
       "      <td>hockingstuart</td>\n",
       "      <td>10/09/2016</td>\n",
       "      <td>11.0</td>\n",
       "      <td>3147.0</td>\n",
       "      <td>...</td>\n",
       "      <td>7.0</td>\n",
       "      <td>4.0</td>\n",
       "      <td>1472.0</td>\n",
       "      <td>618.0</td>\n",
       "      <td>2009.0</td>\n",
       "      <td>Boroondara</td>\n",
       "      <td>-37.8729</td>\n",
       "      <td>145.0788</td>\n",
       "      <td>Southern Metropolitan</td>\n",
       "      <td>3052.0</td>\n",
       "    </tr>\n",
       "  </tbody>\n",
       "</table>\n",
       "<p>4 rows × 21 columns</p>\n",
       "</div>"
      ],
      "text/plain": [
       "           Suburb           Address  Rooms Type      Price Method  \\\n",
       "2      Abbotsford      5 Charles St    3.0    h  1465000.0     SP   \n",
       "47   Airport West  11 Harrington Rd    6.0    h   725000.0     SP   \n",
       "124    Alphington      83 Fulham Rd    5.0    h  2840000.0      S   \n",
       "379     Ashburton    115 Ashburn Gr    8.0    h  2950000.0      S   \n",
       "\n",
       "           SellerG        Date  Distance  Postcode  ...  Bathroom  Car  \\\n",
       "2           Biggin   4/03/2017       2.5    3067.0  ...       2.0  0.0   \n",
       "47           Barry   7/05/2016      13.5    3042.0  ...       3.0  2.0   \n",
       "124         Nelson  12/06/2016       6.4    3078.0  ...       4.0  4.0   \n",
       "379  hockingstuart  10/09/2016      11.0    3147.0  ...       7.0  4.0   \n",
       "\n",
       "     Landsize  BuildingArea  YearBuilt    CouncilArea Lattitude  Longtitude  \\\n",
       "2       134.0         150.0     1900.0          Yarra  -37.8093    144.9944   \n",
       "47      976.0         186.0     1980.0  Moonee Valley  -37.7239    144.8735   \n",
       "124     809.0         165.0     1910.0        Darebin  -37.7750    145.0268   \n",
       "379    1472.0         618.0     2009.0     Boroondara  -37.8729    145.0788   \n",
       "\n",
       "                Regionname Propertycount  \n",
       "2    Northern Metropolitan        4019.0  \n",
       "47    Western Metropolitan        3464.0  \n",
       "124  Northern Metropolitan        2211.0  \n",
       "379  Southern Metropolitan        3052.0  \n",
       "\n",
       "[4 rows x 21 columns]"
      ]
     },
     "execution_count": 2,
     "metadata": {},
     "output_type": "execute_result"
    }
   ],
   "source": [
    "data = pd.read_csv('/home/moranta/Downloads/archive/melb_data.csv')\n",
    "# datas.dropna(subset=['BuildingArea'], inplace=True)\n",
    "# datas.dropna(subset=['Rooms'], inplace=True)\n",
    "# datas.dropna(subset=['Price'], inplace=True)\n",
    "# datas.dropna(subset=['Bathroom'], inplace=True)\n",
    "# datas.dropna(subset=['Landsize'], inplace=True)\n",
    "\n",
    "# Remplacer les valeurs manquantes par la médiane pour certaines colonnes\n",
    "# datas['Rooms'].fillna(datas['Rooms'].median(), inplace=True)\n",
    "# datas['Bathroom'].fillna(datas['Bathroom'].median(), inplace=True)\n",
    "# datas['Landsize'].fillna(datas['Landsize'].median(), inplace=True)\n",
    "# datas['BuildingArea'].fillna(datas['BuildingArea'].median(), inplace=True)\n",
    "# datas['Price'].fillna(datas['Price'].median(), inplace=True)\n",
    "datas = data.copy()\n",
    "imputer_data = SimpleImputer(strategy='mean')\n",
    "datas[\"Price\"] = imputer_data.fit_transform(datas[['Price']])\n",
    "datas[\"Rooms\"] = imputer_data.fit_transform(datas[['Rooms']])\n",
    "datas[\"Bedroom2\"] = imputer_data.fit_transform(datas[['Bedroom2']])\n",
    "datas[\"Bathroom\"] = imputer_data.fit_transform(datas[['Bathroom']])\n",
    "datas[\"Landsize\"] = imputer_data.fit_transform(datas[['Landsize']])\n",
    "datas[\"BuildingArea\"] = imputer_data.fit_transform(datas[['BuildingArea']])\n",
    "datas1 = datas\n",
    "# datas1 = datas1.drop_duplicates()\n",
    "datas1 = datas1.drop_duplicates(subset=['BuildingArea'])\n",
    "datas1 = datas1.drop_duplicates(subset=['Price'])\n",
    "datas1 = datas1.drop_duplicates(subset=['Rooms'])\n",
    "datas1 = datas1.drop_duplicates(subset=['Bedroom2'])\n",
    "datas1 = datas1.drop_duplicates(subset=['Bathroom'])\n",
    "datas1 = datas1.drop_duplicates(subset=['Landsize'])\n",
    "datas1.dropna()\n",
    "# datas.shape"
   ]
  },
  {
   "cell_type": "code",
   "execution_count": 3,
   "id": "3d4a3770",
   "metadata": {},
   "outputs": [],
   "source": [
    "# Sélectionner les fonctionnalités (features) que vous souhaitez utiliser pour la prédiction\n",
    "features = ['Rooms', 'Bedroom2', 'Bathroom', 'Landsize', 'BuildingArea']\n",
    "\n",
    "\n",
    "kf = KFold(n_splits=3, shuffle=True, random_state=42)\n"
   ]
  },
  {
   "cell_type": "code",
   "execution_count": 4,
   "id": "6548bdb4",
   "metadata": {
    "scrolled": true
   },
   "outputs": [],
   "source": [
    "# Diviser les données en ensembles d'entraînement et de test\n",
    "X = datas1[features]\n",
    "y = datas1['Price']\n",
    "X_train, X_test, y_train, y_test = train_test_split(X, y, test_size=0.3, random_state=42)\n",
    "# X_train=X_train.drop_duplicates(subset=['BuildingArea'], keep='first')\n",
    "\n",
    "\n",
    "\n",
    "# Normaliser les données\n",
    "# scaler = StandardScaler()\n",
    "# X_train = scaler.fit_transform(X_train)\n",
    "# X_test = scaler.transform(X_test)\n",
    "\n",
    "# Créer un pipeline pour gérer l'imputation et la normalisation\n",
    "pipeline = Pipeline([\n",
    "    ('imputer', SimpleImputer(strategy='mean')),\n",
    "    ('scaler', StandardScaler()),\n",
    "])\n",
    "X_train = pipeline.fit_transform(X_train)\n",
    "X_test = pipeline.transform(X_test)\n",
    "\n",
    "params = {\n",
    "    \"n_estimators\":[100, 200, 500],\n",
    "    \"max_depth\": [3, 6, 9],\n",
    "    \"learning_rate\": [0.001, 0.01, 0.1, 1]\n",
    "}\n",
    "# cv = RepeatedKFold(n_splits=5, n_repeats=2, random_state=1)\n",
    "# X_train['BuildingArea'].duplicated().values.any()"
   ]
  },
  {
   "cell_type": "code",
   "execution_count": 5,
   "id": "c5c65876",
   "metadata": {
    "scrolled": true
   },
   "outputs": [],
   "source": [
    "# Définir la validation croisée\n",
    "kf = KFold(n_splits=3, shuffle=True, random_state=42)\n",
    "\n",
    "# Créer un modèle de régression par gradient boosting\n",
    "model =GradientBoostingRegressor(learning_rate=0.1, max_depth=3, n_estimators=100, random_state=42)\n",
    "\n",
    "# grid_search = GridSearchCV(estimator=model, param_grid=params, n_jobs=-1, cv=cv)\n",
    "\n",
    "# Évaluer le modèle avec la validation croisée\n",
    "scores = cross_val_score(model, X_train, y_train, cv=kf, scoring='neg_mean_squared_error')\n",
    "\n",
    "# Calculer la moyenne et l'écart-type des scores de validation croisée\n",
    "mean_mse = -scores.mean()\n",
    "std_mse = scores.std()"
   ]
  },
  {
   "cell_type": "code",
   "execution_count": 6,
   "id": "53cab33f",
   "metadata": {},
   "outputs": [
    {
     "data": {
      "text/plain": [
       "0.9817873480439442"
      ]
     },
     "execution_count": 6,
     "metadata": {},
     "output_type": "execute_result"
    }
   ],
   "source": [
    "# Entraîner le modèle sur l'ensemble d'entraînement\n",
    "# grid_search.fit(X_train, y_train)\n",
    "# best_params = grid_search.best_params_\n",
    "model.fit(X_train, y_train)\n",
    "\n",
    "score_train = model.score(X_train, y_train)\n",
    "score_test = model.score(X_test, y_test)\n",
    "score_test"
   ]
  },
  {
   "cell_type": "code",
   "execution_count": 7,
   "id": "0649b6b8",
   "metadata": {},
   "outputs": [],
   "source": [
    "# y_pred = grid_search.predict(X_test)\n",
    "# Faire des prédictions sur l'ensemble de test\n",
    "y_pred = model.predict(X_test)\n"
   ]
  },
  {
   "cell_type": "code",
   "execution_count": 8,
   "id": "c9fcd827",
   "metadata": {
    "scrolled": true
   },
   "outputs": [],
   "source": [
    "# Calculer l'erreur quadratique moyenne (MSE) sur l'ensemble de test\n",
    "mse = mean_squared_error(y_pred, y_test)\n",
    "ecart_type = np.sqrt(mse)\n",
    "# ecart_type = (mse)**0.5"
   ]
  },
  {
   "cell_type": "code",
   "execution_count": 9,
   "id": "31ad6f8e",
   "metadata": {},
   "outputs": [
    {
     "name": "stdout",
     "output_type": "stream",
     "text": [
      "Mean Squared Error: 10040748852.448292\n"
     ]
    }
   ],
   "source": [
    "# Afficher les résultats\n",
    "# print(\"Meilleurs hyperparamètres:\", best_params)\n",
    "print(\"Mean Squared Error:\", mse)\n",
    "#Avec cette structure, vous devriez obtenir les meilleurs hyperparamètres et l'erreur quadratique moyenne (MSE) pour votre modèle. Assurez-vous que le fichier CSV est correctement chargé, que les colonnes spécifiées dans features existent dans le fichier de données, et que les données sont correctement nettoyées pour éviter les valeurs manquantes.\n"
   ]
  },
  {
   "cell_type": "code",
   "execution_count": 10,
   "id": "7a92fc9f",
   "metadata": {},
   "outputs": [
    {
     "name": "stdout",
     "output_type": "stream",
     "text": [
      "Mean Squared Error (MSE) en validation croisée : 3153900291797.301\n",
      "Écart-type (standard deviation) en validation croisée : 1342692574373.6597\n",
      "Mean Squared Error (MSE) sur l'ensemble de test : 10040748852.448292\n",
      "Écart-type (standard deviation) sur l'ensemble de test : 100203.5371254343\n"
     ]
    }
   ],
   "source": [
    "# Afficher les résultats\n",
    "print(f\"Mean Squared Error (MSE) en validation croisée : {mean_mse}\")\n",
    "print(f\"Écart-type (standard deviation) en validation croisée : {std_mse}\")\n",
    "print(f\"Mean Squared Error (MSE) sur l'ensemble de test : {mse}\")\n",
    "print(f\"Écart-type (standard deviation) sur l'ensemble de test : {ecart_type}\")"
   ]
  },
  {
   "cell_type": "code",
   "execution_count": null,
   "id": "021cda37",
   "metadata": {},
   "outputs": [],
   "source": []
  },
  {
   "cell_type": "code",
   "execution_count": null,
   "id": "f18ed242",
   "metadata": {},
   "outputs": [],
   "source": []
  },
  {
   "cell_type": "code",
   "execution_count": null,
   "id": "7209e369",
   "metadata": {},
   "outputs": [],
   "source": []
  },
  {
   "cell_type": "code",
   "execution_count": null,
   "id": "c9f41ecf",
   "metadata": {},
   "outputs": [],
   "source": []
  },
  {
   "cell_type": "code",
   "execution_count": null,
   "id": "c03184c0",
   "metadata": {},
   "outputs": [],
   "source": []
  },
  {
   "cell_type": "code",
   "execution_count": null,
   "id": "1a78c494",
   "metadata": {},
   "outputs": [],
   "source": []
  },
  {
   "cell_type": "code",
   "execution_count": null,
   "id": "cb6766c6",
   "metadata": {},
   "outputs": [],
   "source": []
  },
  {
   "cell_type": "code",
   "execution_count": null,
   "id": "d0435168",
   "metadata": {},
   "outputs": [],
   "source": []
  },
  {
   "cell_type": "code",
   "execution_count": null,
   "id": "e8bede57",
   "metadata": {},
   "outputs": [],
   "source": []
  }
 ],
 "metadata": {
  "kernelspec": {
   "display_name": "Python 3 (ipykernel)",
   "language": "python",
   "name": "python3"
  },
  "language_info": {
   "codemirror_mode": {
    "name": "ipython",
    "version": 3
   },
   "file_extension": ".py",
   "mimetype": "text/x-python",
   "name": "python",
   "nbconvert_exporter": "python",
   "pygments_lexer": "ipython3",
   "version": "3.11.4"
  }
 },
 "nbformat": 4,
 "nbformat_minor": 5
}
