{
 "cells": [
  {
   "cell_type": "code",
   "execution_count": null,
   "id": "f4b35dbb",
   "metadata": {},
   "outputs": [],
   "source": [
    "import pandas as pd"
   ]
  },
  {
   "cell_type": "code",
   "execution_count": null,
   "id": "fbaa2923",
   "metadata": {},
   "outputs": [],
   "source": [
    "data = pd.read_csv('data.csv')\n",
    "data"
   ]
  },
  {
   "cell_type": "code",
   "execution_count": null,
   "id": "caad08a3",
   "metadata": {},
   "outputs": [],
   "source": [
    "# Supprimer les lignes avec des valeurs manquantes\n",
    "data = data.dropna()\n",
    "data.isnull().sum()"
   ]
  },
  {
   "cell_type": "code",
   "execution_count": null,
   "id": "5bc77def",
   "metadata": {
    "scrolled": true
   },
   "outputs": [],
   "source": [
    "# Convertir les colonnes pertinentes en types de données appropriés\n",
    "data = data[data['Order Date'] != 'Order Date']\n",
    "data['Quantity Ordered'] = pd.to_numeric(data['Quantity Ordered'])\n",
    "data['Price Each'] = pd.to_numeric(data['Price Each'])\n",
    "data['Order Date'] = pd.to_datetime(data['Order Date'], format='%m/%d/%y %H:%M')\n",
    "data"
   ]
  },
  {
   "cell_type": "code",
   "execution_count": null,
   "id": "d93e3db6",
   "metadata": {},
   "outputs": [],
   "source": [
    "# Sélectionner les caractéristiques pertinentes pour la segmentation (par exemple, 'Quantity Ordered' et 'Price Each')\n",
    "caracteristiques = data[['Quantity Ordered', 'Price Each']]"
   ]
  },
  {
   "cell_type": "code",
   "execution_count": null,
   "id": "5ce665cb",
   "metadata": {},
   "outputs": [],
   "source": [
    "from sklearn.cluster import KMeans\n",
    "import warnings\n",
    "\n",
    "# Désactiver les avertissements liés à threadpoolctl\n",
    "warnings.filterwarnings(\"ignore\", category=UserWarning, message=\".*OpenMP*\")\n",
    "\n",
    "# Créer le modèle K-Means avec le nombre de classes souhaité (à déterminer)\n",
    "kmeans = KMeans(n_clusters=5, random_state=0, n_init=\"auto\").fit(caracteristiques)\n",
    "\n",
    "# Appliquer le modèle aux caractéristiques sélectionnées\n",
    "data['Cluster'] = kmeans.predict(caracteristiques)"
   ]
  },
  {
   "cell_type": "code",
   "execution_count": null,
   "id": "b5e92beb",
   "metadata": {},
   "outputs": [],
   "source": [
    "import matplotlib.pyplot as plt\n",
    "\n",
    "# Visualisation des clusters en fonction des caractéristiques (par exemple, Quantity Ordered vs Price Each)\n",
    "plt.figure(figsize=(10, 6))\n",
    "plt.scatter(caracteristiques['Quantity Ordered'], caracteristiques['Price Each'], c=data['Cluster'], cmap='viridis')\n",
    "plt.xlabel('Quantity Ordered')\n",
    "plt.ylabel('Price Each')\n",
    "plt.title('Visualisation des clusters')\n",
    "plt.grid(True)\n",
    "plt.show()\n"
   ]
  },
  {
   "cell_type": "code",
   "execution_count": null,
   "id": "3675014b",
   "metadata": {},
   "outputs": [],
   "source": [
    "from sklearn.cluster import KMeans\n",
    "from sklearn.metrics import silhouette_score\n",
    "import matplotlib.pyplot as plt\n",
    "\n",
    "# Liste des nombres de clusters à essayer\n",
    "n_clusters_list = [2, 3, 4, 5, 6]\n",
    "\n",
    "# Initialisation des listes pour stocker les scores de silhouette\n",
    "silhouette_scores = []\n",
    "\n",
    "# Itérer sur différents nombres de clusters\n",
    "for n_clusters in n_clusters_list:\n",
    "    kmeans = KMeans(n_clusters=n_clusters, random_state=0, n_init=\"auto\").fit(caracteristiques)\n",
    "    labels = kmeans.labels_\n",
    "    silhouette_avg = silhouette_score(caracteristiques, labels)\n",
    "    silhouette_scores.append(silhouette_avg)\n"
   ]
  },
  {
   "cell_type": "code",
   "execution_count": null,
   "id": "00ccad12",
   "metadata": {},
   "outputs": [],
   "source": [
    "# Tracer le graphique du score de silhouette en fonction du nombre de clusters\n",
    "plt.figure(figsize=(10, 6))\n",
    "plt.plot(n_clusters_list, silhouette_scores, marker='o')\n",
    "plt.xlabel('Nombre de clusters')\n",
    "plt.ylabel('Score de silhouette')\n",
    "plt.title('Évaluation du nombre de clusters')\n",
    "plt.grid(True)\n",
    "plt.show()"
   ]
  },
  {
   "cell_type": "code",
   "execution_count": null,
   "id": "7745c2b0",
   "metadata": {},
   "outputs": [],
   "source": []
  }
 ],
 "metadata": {
  "kernelspec": {
   "display_name": "Python 3 (ipykernel)",
   "language": "python",
   "name": "python3"
  },
  "language_info": {
   "codemirror_mode": {
    "name": "ipython",
    "version": 3
   },
   "file_extension": ".py",
   "mimetype": "text/x-python",
   "name": "python",
   "nbconvert_exporter": "python",
   "pygments_lexer": "ipython3",
   "version": "3.11.4"
  }
 },
 "nbformat": 4,
 "nbformat_minor": 5
}
